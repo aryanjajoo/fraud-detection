{
 "cells": [
  {
   "cell_type": "markdown",
   "id": "af29032f",
   "metadata": {},
   "source": [
    "# Credit Card Fraud Detection"
   ]
  },
  {
   "cell_type": "markdown",
   "id": "250bd998",
   "metadata": {},
   "source": [
    "If you would like to run this notebook yourself manually, download the dataset from [here](https://www.kaggle.com/datasets/mlg-ulb/creditcardfraud)\n",
    "- Extract and **copy paste** the \"creditcard.csv\" file into your Downloads\n",
    "\n",
    "You may create your own Conda environment using this [environment.yml file](https://github.com/aryanjajoo/fraud-detection/blob/main/environment.yml)\n",
    "\n",
    "#### Objective\n",
    "\n",
    "There are:\n",
    "- 284807 total transactions\n",
    "- 492 fraudulent transactions\n",
    "\n",
    "My objective is to build a good model for fraud detection, since it's a very common problem for many businesses and costs them on average 5% of their annual revenue. I want to try different machine learning models and use oversampling techniques such as SMOTE to deal with the high imbalance in the dataset since fraudulent transactions are so rare.\n",
    "\n",
    "#### Contents\n",
    "\n",
    "1. EDA (Exploratory Data Analysis)\n",
    "2. Logistic Regression\n",
    "3. Logistic Regression (with SMOTE)\n",
    "4. Random Forest Classifier\n",
    "5. Random Forest Classifier (with SMOTE)\n",
    "6. Hyperparameter Tuning for the best model\n",
    "\n",
    "#### What is SMOTE?\n",
    "\n",
    "Since our dataset is very imbalanced and there's a very small number of fraudulent transactions, we can use SMOTE to create new synthetic samples of the minority class (it looks at the real examples and creates slightly different ones based on them) so the models learn better and doesn't ignore the minority group (which are the fraudulent transactions)."
   ]
  },
  {
   "cell_type": "markdown",
   "id": "a313ebfa",
   "metadata": {},
   "source": [
    "# EDA (Exploratory Data Analysis)"
   ]
  },
  {
   "cell_type": "code",
   "execution_count": 1,
   "id": "66789e6e",
   "metadata": {},
   "outputs": [],
   "source": [
    "import pandas as pd\n",
    "\n",
    "df = pd.read_csv(\"creditcard.csv\")"
   ]
  },
  {
   "cell_type": "code",
   "execution_count": 2,
   "id": "06af5e27",
   "metadata": {},
   "outputs": [
    {
     "data": {
      "text/html": [
       "<div>\n",
       "<style scoped>\n",
       "    .dataframe tbody tr th:only-of-type {\n",
       "        vertical-align: middle;\n",
       "    }\n",
       "\n",
       "    .dataframe tbody tr th {\n",
       "        vertical-align: top;\n",
       "    }\n",
       "\n",
       "    .dataframe thead th {\n",
       "        text-align: right;\n",
       "    }\n",
       "</style>\n",
       "<table border=\"1\" class=\"dataframe\">\n",
       "  <thead>\n",
       "    <tr style=\"text-align: right;\">\n",
       "      <th></th>\n",
       "      <th>Time</th>\n",
       "      <th>V1</th>\n",
       "      <th>V2</th>\n",
       "      <th>V3</th>\n",
       "      <th>V4</th>\n",
       "      <th>V5</th>\n",
       "      <th>V6</th>\n",
       "      <th>V7</th>\n",
       "      <th>V8</th>\n",
       "      <th>V9</th>\n",
       "      <th>...</th>\n",
       "      <th>V21</th>\n",
       "      <th>V22</th>\n",
       "      <th>V23</th>\n",
       "      <th>V24</th>\n",
       "      <th>V25</th>\n",
       "      <th>V26</th>\n",
       "      <th>V27</th>\n",
       "      <th>V28</th>\n",
       "      <th>Amount</th>\n",
       "      <th>Class</th>\n",
       "    </tr>\n",
       "  </thead>\n",
       "  <tbody>\n",
       "    <tr>\n",
       "      <th>0</th>\n",
       "      <td>0.0</td>\n",
       "      <td>-1.359807</td>\n",
       "      <td>-0.072781</td>\n",
       "      <td>2.536347</td>\n",
       "      <td>1.378155</td>\n",
       "      <td>-0.338321</td>\n",
       "      <td>0.462388</td>\n",
       "      <td>0.239599</td>\n",
       "      <td>0.098698</td>\n",
       "      <td>0.363787</td>\n",
       "      <td>...</td>\n",
       "      <td>-0.018307</td>\n",
       "      <td>0.277838</td>\n",
       "      <td>-0.110474</td>\n",
       "      <td>0.066928</td>\n",
       "      <td>0.128539</td>\n",
       "      <td>-0.189115</td>\n",
       "      <td>0.133558</td>\n",
       "      <td>-0.021053</td>\n",
       "      <td>149.62</td>\n",
       "      <td>0</td>\n",
       "    </tr>\n",
       "    <tr>\n",
       "      <th>1</th>\n",
       "      <td>0.0</td>\n",
       "      <td>1.191857</td>\n",
       "      <td>0.266151</td>\n",
       "      <td>0.166480</td>\n",
       "      <td>0.448154</td>\n",
       "      <td>0.060018</td>\n",
       "      <td>-0.082361</td>\n",
       "      <td>-0.078803</td>\n",
       "      <td>0.085102</td>\n",
       "      <td>-0.255425</td>\n",
       "      <td>...</td>\n",
       "      <td>-0.225775</td>\n",
       "      <td>-0.638672</td>\n",
       "      <td>0.101288</td>\n",
       "      <td>-0.339846</td>\n",
       "      <td>0.167170</td>\n",
       "      <td>0.125895</td>\n",
       "      <td>-0.008983</td>\n",
       "      <td>0.014724</td>\n",
       "      <td>2.69</td>\n",
       "      <td>0</td>\n",
       "    </tr>\n",
       "    <tr>\n",
       "      <th>2</th>\n",
       "      <td>1.0</td>\n",
       "      <td>-1.358354</td>\n",
       "      <td>-1.340163</td>\n",
       "      <td>1.773209</td>\n",
       "      <td>0.379780</td>\n",
       "      <td>-0.503198</td>\n",
       "      <td>1.800499</td>\n",
       "      <td>0.791461</td>\n",
       "      <td>0.247676</td>\n",
       "      <td>-1.514654</td>\n",
       "      <td>...</td>\n",
       "      <td>0.247998</td>\n",
       "      <td>0.771679</td>\n",
       "      <td>0.909412</td>\n",
       "      <td>-0.689281</td>\n",
       "      <td>-0.327642</td>\n",
       "      <td>-0.139097</td>\n",
       "      <td>-0.055353</td>\n",
       "      <td>-0.059752</td>\n",
       "      <td>378.66</td>\n",
       "      <td>0</td>\n",
       "    </tr>\n",
       "    <tr>\n",
       "      <th>3</th>\n",
       "      <td>1.0</td>\n",
       "      <td>-0.966272</td>\n",
       "      <td>-0.185226</td>\n",
       "      <td>1.792993</td>\n",
       "      <td>-0.863291</td>\n",
       "      <td>-0.010309</td>\n",
       "      <td>1.247203</td>\n",
       "      <td>0.237609</td>\n",
       "      <td>0.377436</td>\n",
       "      <td>-1.387024</td>\n",
       "      <td>...</td>\n",
       "      <td>-0.108300</td>\n",
       "      <td>0.005274</td>\n",
       "      <td>-0.190321</td>\n",
       "      <td>-1.175575</td>\n",
       "      <td>0.647376</td>\n",
       "      <td>-0.221929</td>\n",
       "      <td>0.062723</td>\n",
       "      <td>0.061458</td>\n",
       "      <td>123.50</td>\n",
       "      <td>0</td>\n",
       "    </tr>\n",
       "    <tr>\n",
       "      <th>4</th>\n",
       "      <td>2.0</td>\n",
       "      <td>-1.158233</td>\n",
       "      <td>0.877737</td>\n",
       "      <td>1.548718</td>\n",
       "      <td>0.403034</td>\n",
       "      <td>-0.407193</td>\n",
       "      <td>0.095921</td>\n",
       "      <td>0.592941</td>\n",
       "      <td>-0.270533</td>\n",
       "      <td>0.817739</td>\n",
       "      <td>...</td>\n",
       "      <td>-0.009431</td>\n",
       "      <td>0.798278</td>\n",
       "      <td>-0.137458</td>\n",
       "      <td>0.141267</td>\n",
       "      <td>-0.206010</td>\n",
       "      <td>0.502292</td>\n",
       "      <td>0.219422</td>\n",
       "      <td>0.215153</td>\n",
       "      <td>69.99</td>\n",
       "      <td>0</td>\n",
       "    </tr>\n",
       "  </tbody>\n",
       "</table>\n",
       "<p>5 rows × 31 columns</p>\n",
       "</div>"
      ],
      "text/plain": [
       "   Time        V1        V2        V3        V4        V5        V6        V7  \\\n",
       "0   0.0 -1.359807 -0.072781  2.536347  1.378155 -0.338321  0.462388  0.239599   \n",
       "1   0.0  1.191857  0.266151  0.166480  0.448154  0.060018 -0.082361 -0.078803   \n",
       "2   1.0 -1.358354 -1.340163  1.773209  0.379780 -0.503198  1.800499  0.791461   \n",
       "3   1.0 -0.966272 -0.185226  1.792993 -0.863291 -0.010309  1.247203  0.237609   \n",
       "4   2.0 -1.158233  0.877737  1.548718  0.403034 -0.407193  0.095921  0.592941   \n",
       "\n",
       "         V8        V9  ...       V21       V22       V23       V24       V25  \\\n",
       "0  0.098698  0.363787  ... -0.018307  0.277838 -0.110474  0.066928  0.128539   \n",
       "1  0.085102 -0.255425  ... -0.225775 -0.638672  0.101288 -0.339846  0.167170   \n",
       "2  0.247676 -1.514654  ...  0.247998  0.771679  0.909412 -0.689281 -0.327642   \n",
       "3  0.377436 -1.387024  ... -0.108300  0.005274 -0.190321 -1.175575  0.647376   \n",
       "4 -0.270533  0.817739  ... -0.009431  0.798278 -0.137458  0.141267 -0.206010   \n",
       "\n",
       "        V26       V27       V28  Amount  Class  \n",
       "0 -0.189115  0.133558 -0.021053  149.62      0  \n",
       "1  0.125895 -0.008983  0.014724    2.69      0  \n",
       "2 -0.139097 -0.055353 -0.059752  378.66      0  \n",
       "3 -0.221929  0.062723  0.061458  123.50      0  \n",
       "4  0.502292  0.219422  0.215153   69.99      0  \n",
       "\n",
       "[5 rows x 31 columns]"
      ]
     },
     "execution_count": 2,
     "metadata": {},
     "output_type": "execute_result"
    }
   ],
   "source": [
    "# First 5 rows of the dataset\n",
    "df.head()"
   ]
  },
  {
   "cell_type": "markdown",
   "id": "f93c13e7",
   "metadata": {},
   "source": [
    "The features in this dataset are:\n",
    "- Time\n",
    "- V1 - V28\n",
    "- Amount (transcation amount)\n",
    "- Class (0 for legitimate transactions and 1 for fraudulent ones)\n",
    "\n",
    "For context: V1-V28 are anonimized features obtained from principal component analysis, we do not know what each component represents, however the model can learn patterns from the different values from V1-V28 and use that to determine if a transaction is fraudulent or not."
   ]
  },
  {
   "cell_type": "code",
   "execution_count": 3,
   "id": "b098eae3",
   "metadata": {},
   "outputs": [
    {
     "name": "stdout",
     "output_type": "stream",
     "text": [
      "0: Not fraud\n",
      "1: Fraud\n",
      "\n",
      "Class\n",
      "0    284315\n",
      "1       492\n",
      "Name: count, dtype: int64\n"
     ]
    }
   ],
   "source": [
    "# Total amounts of both types of transactions\n",
    "totals = df['Class'].value_counts()\n",
    "\n",
    "print(\"0: Not fraud\\n1: Fraud\\n\")\n",
    "print(totals)"
   ]
  },
  {
   "cell_type": "code",
   "execution_count": 4,
   "id": "8ef193a5",
   "metadata": {},
   "outputs": [
    {
     "name": "stdout",
     "output_type": "stream",
     "text": [
      "Ratio of fraudulent cases to non fraudulent cases\n",
      "\n",
      "Class\n",
      "0    0.998273\n",
      "1    0.001727\n",
      "Name: count, dtype: float64\n"
     ]
    }
   ],
   "source": [
    "print(\"Ratio of fraudulent cases to non fraudulent cases\\n\")\n",
    "print(totals / len(df.index))"
   ]
  },
  {
   "cell_type": "markdown",
   "id": "e1e40537",
   "metadata": {},
   "source": [
    "## PCA plot"
   ]
  },
  {
   "cell_type": "code",
   "execution_count": 5,
   "id": "19b3f8d2",
   "metadata": {},
   "outputs": [],
   "source": [
    "from sklearn.decomposition import PCA\n",
    "from sklearn.preprocessing import StandardScaler\n",
    "\n",
    "X = df.drop(\"Class\", axis=1)\n",
    "y = df[\"Class\"]\n",
    "\n",
    "scaler = StandardScaler()\n",
    "X_scaled = scaler.fit_transform(X)\n",
    "\n",
    "# PCA to reduce dimensions\n",
    "pca = PCA(n_components=2)\n",
    "X_pca = pca.fit_transform(X_scaled)"
   ]
  },
  {
   "cell_type": "code",
   "execution_count": 6,
   "id": "7603b48e",
   "metadata": {},
   "outputs": [
    {
     "data": {
      "image/png": "[encoded data removed]",
      "text/plain": [
       "<Figure size 640x480 with 1 Axes>"
      ]
     },
     "metadata": {},
     "output_type": "display_data"
    }
   ],
   "source": [
    "import seaborn as sns\n",
    "import matplotlib.pyplot as plt\n",
    "\n",
    "# New dataframe with PCA components\n",
    "# PC1 and PC2 are the principal components\n",
    "df_pca = pd.DataFrame(X_pca, columns=['PC1', 'PC2'])\n",
    "df_pca['Class'] = y\n",
    "\n",
    "# Scatterplot of the 2 principal components\n",
    "sns.scatterplot(data=df_pca, x='PC1', y='PC2', hue=\"Class\")\n",
    "plt.title('PCA Plot')\n",
    "plt.show()"
   ]
  },
  {
   "cell_type": "markdown",
   "id": "cf846431",
   "metadata": {},
   "source": [
    "In this scatterplot:\n",
    "- 0 represents non fraudulent cases\n",
    "- 1 represents fraudulent cases"
   ]
  },
  {
   "cell_type": "markdown",
   "id": "394d4a9e",
   "metadata": {},
   "source": [
    "## Splitting the dataset"
   ]
  },
  {
   "cell_type": "code",
   "execution_count": 8,
   "id": "bde44793",
   "metadata": {},
   "outputs": [],
   "source": [
    "from sklearn.model_selection import train_test_split\n",
    "\n",
    "# Splitting the dataset into training and test sets\n",
    "# 70% will be used for training\n",
    "# 30% will be used for testing\n",
    "X_train, X_test, y_train, y_test = train_test_split(X, y, test_size=0.3, random_state=0)"
   ]
  },
  {
   "cell_type": "markdown",
   "id": "8eb38aa4",
   "metadata": {},
   "source": [
    "# Logistic Regression (without SMOTE)\n",
    "\n",
    "I used a scaler to standardize my features since logistic regression is sensitive to scaling and it helps a lot since logistic regression benefits from scaling.\n",
    "\n",
    "I decided to also use a pipeline which essentially helps combine multiple steps into one in a clean and efficient manner. It also helps prevent data leakage since pipelines are automatic and safer on average."
   ]
  },
  {
   "cell_type": "code",
   "execution_count": 9,
   "id": "8af42556",
   "metadata": {},
   "outputs": [],
   "source": [
    "from imblearn.pipeline import Pipeline \n",
    "from sklearn.linear_model import LogisticRegression\n",
    "\n",
    "# Scaler\n",
    "scaler = StandardScaler()\n",
    "\n",
    "# The model\n",
    "logreg_model = LogisticRegression(max_iter=2000, solver='saga', random_state=42)\n",
    "\n",
    "# Defining the pipeline\n",
    "pipeline = Pipeline([\n",
    "    ('scaler', scaler),\n",
    "    ('Logistic Regression', logreg_model),\n",
    "])\n",
    "\n",
    "pipeline.fit(X_train, y_train)\n",
    "\n",
    "# Storing the predictions\n",
    "y_pred = pipeline.predict(X_test)"
   ]
  },
  {
   "cell_type": "code",
   "execution_count": 10,
   "id": "67bc3e3b",
   "metadata": {},
   "outputs": [],
   "source": [
    "from sklearn.metrics import precision_score, recall_score, f1_score\n",
    "\n",
    "# Calculating metrics and rounding them to 2 decimal places\n",
    "precision = round(precision_score(y_test, y_pred), 2)\n",
    "recall = round(recall_score(y_test, y_pred), 2)\n",
    "f1 = round(f1_score(y_test, y_pred), 2)\n",
    "\n",
    "# Adding results to a list for later comparisons\n",
    "results_logreg = [['Logistic Regression (no SMOTE)', precision, recall, f1]]\n",
    "\n",
    "# This will be the dataframe that contains all the results from all the models\n",
    "final_results = pd.DataFrame(results_logreg, columns=['Model', 'Precision', 'Recall', 'F1-Score'])"
   ]
  },
  {
   "cell_type": "code",
   "execution_count": 11,
   "id": "ec91c905",
   "metadata": {},
   "outputs": [
    {
     "data": {
      "image/png": "[encoded data removed]",
      "text/plain": [
       "<Figure size 640x480 with 2 Axes>"
      ]
     },
     "metadata": {},
     "output_type": "display_data"
    }
   ],
   "source": [
    "from sklearn.metrics import confusion_matrix, ConfusionMatrixDisplay\n",
    "\n",
    "# Confusion Matrix\n",
    "cm = confusion_matrix(y_test, y_pred)\n",
    "\n",
    "disp = ConfusionMatrixDisplay(confusion_matrix=cm)\n",
    "disp.plot()\n",
    "plt.show()"
   ]
  },
  {
   "cell_type": "code",
   "execution_count": 12,
   "id": "a605cbc0",
   "metadata": {},
   "outputs": [
    {
     "name": "stdout",
     "output_type": "stream",
     "text": [
      "Classification report:\n",
      "               precision    recall  f1-score   support\n",
      "\n",
      "           0       1.00      1.00      1.00     85296\n",
      "           1       0.88      0.62      0.73       147\n",
      "\n",
      "    accuracy                           1.00     85443\n",
      "   macro avg       0.94      0.81      0.86     85443\n",
      "weighted avg       1.00      1.00      1.00     85443\n",
      "\n"
     ]
    }
   ],
   "source": [
    "from sklearn.metrics import classification_report\n",
    "\n",
    "# The classification report\n",
    "print('Classification report:\\n', classification_report(y_test, y_pred))"
   ]
  },
  {
   "cell_type": "code",
   "execution_count": 13,
   "id": "f1c11d71",
   "metadata": {},
   "outputs": [
    {
     "data": {
      "text/html": [
       "<div>\n",
       "<style scoped>\n",
       "    .dataframe tbody tr th:only-of-type {\n",
       "        vertical-align: middle;\n",
       "    }\n",
       "\n",
       "    .dataframe tbody tr th {\n",
       "        vertical-align: top;\n",
       "    }\n",
       "\n",
       "    .dataframe thead th {\n",
       "        text-align: right;\n",
       "    }\n",
       "</style>\n",
       "<table border=\"1\" class=\"dataframe\">\n",
       "  <thead>\n",
       "    <tr style=\"text-align: right;\">\n",
       "      <th></th>\n",
       "      <th>Model</th>\n",
       "      <th>Precision</th>\n",
       "      <th>Recall</th>\n",
       "      <th>F1-Score</th>\n",
       "    </tr>\n",
       "  </thead>\n",
       "  <tbody>\n",
       "    <tr>\n",
       "      <th>0</th>\n",
       "      <td>Logistic Regression (no SMOTE)</td>\n",
       "      <td>0.88</td>\n",
       "      <td>0.62</td>\n",
       "      <td>0.73</td>\n",
       "    </tr>\n",
       "  </tbody>\n",
       "</table>\n",
       "</div>"
      ],
      "text/plain": [
       "                            Model  Precision  Recall  F1-Score\n",
       "0  Logistic Regression (no SMOTE)       0.88    0.62      0.73"
      ]
     },
     "execution_count": 13,
     "metadata": {},
     "output_type": "execute_result"
    }
   ],
   "source": [
    "final_results"
   ]
  },
  {
   "cell_type": "markdown",
   "id": "57ac8d12",
   "metadata": {},
   "source": [
    "### Results of Logistic Regression (without SMOTE)\n",
    "\n",
    "- Precision of 0.88 means when the model predicted a transaction as fraud, it was correct 88% of the time.\n",
    "- Recall of 0.62 indicates that the model detected 62% of all fraud cases, so 38% of fraud cases were missed.\n",
    "\n",
    "I didn't use accuracy as a metric since this is a very imbalanced dataset, which means that almost all the transactions are not fraudulent. This means the model can simply achieve a very high accuracy by guessing every single case as non fraudulent, which is meaningless for a fraud detection model.\n",
    "\n",
    "So far, for the first model the precision is very good (so 88% of the time, when the model said a transaction was fraudulent, it was correct), however the recall can be improved. Since it still misses 38% of fraud cases, and missing that many can be costly for any business."
   ]
  },
  {
   "cell_type": "markdown",
   "id": "d1d86f2b",
   "metadata": {},
   "source": [
    "# Logistic Regression (with SMOTE)\n",
    "\n",
    "Here I will be using Logistic Regression combined with SMOTE using a pipeline. It will be the same thing as the previous model, however this time I am using SMOTE to oversample my data. Since SMOTE increases my dataset by a lot.\n",
    "\n",
    "**What is SMOTE?**\n",
    "\n",
    "Since our dataset is very imbalanced and there's a very small number of fraudulent transactions, we can use SMOTE to create new synthetic samples of the minority class (it looks at the real examples and creates slightly different ones based on them) so the models learn better and doesn't ignore the minority group (which are the fraudulent transactions)."
   ]
  },
  {
   "cell_type": "code",
   "execution_count": 15,
   "id": "684c50d7",
   "metadata": {},
   "outputs": [],
   "source": [
    "from imblearn.over_sampling import SMOTE\n",
    "\n",
    "scaler = StandardScaler()\n",
    "\n",
    "# Using SMOTE for oversampling\n",
    "resampling = SMOTE(random_state=42)\n",
    "\n",
    "# Max iterations increased to help the model converge\n",
    "logreg_smote = LogisticRegression(max_iter=5000, solver='saga', random_state=42)\n",
    "\n",
    "# The pipeline\n",
    "pipeline = Pipeline([\n",
    "    ('scaler', scaler),\n",
    "    ('SMOTE', resampling),\n",
    "    ('Logistic Regression', logreg_smote),\n",
    "])\n",
    "\n",
    "pipeline.fit(X_train, y_train)\n",
    "\n",
    "# Storing predictions\n",
    "y_pred = pipeline.predict(X_test)"
   ]
  },
  {
   "cell_type": "code",
   "execution_count": 16,
   "id": "3f71032c",
   "metadata": {},
   "outputs": [],
   "source": [
    "# Calculating metrics and rounding them to 2 decimal places\n",
    "precision = round(precision_score(y_test, y_pred), 2)\n",
    "recall = round(recall_score(y_test, y_pred), 2)\n",
    "f1 = round(f1_score(y_test, y_pred), 2)\n",
    "\n",
    "# Storing the results\n",
    "results_logreg_smote = [['Logistic Regression (with SMOTE)', precision, recall, f1]]\n",
    "df_logreg_smote = pd.DataFrame(results_logreg_smote, columns=['Model', 'Precision', 'Recall', 'F1-Score'])\n",
    "\n",
    "# Adding the results to the final results dataframe\n",
    "final_results = pd.concat([final_results, df_logreg_smote], ignore_index=True)"
   ]
  },
  {
   "cell_type": "code",
   "execution_count": 17,
   "id": "d04ca1c0",
   "metadata": {},
   "outputs": [
    {
     "data": {
      "image/png": "[encoded data removed]",
      "text/plain": [
       "<Figure size 640x480 with 2 Axes>"
      ]
     },
     "metadata": {},
     "output_type": "display_data"
    }
   ],
   "source": [
    "# Confusion Matrix\n",
    "cm = confusion_matrix(y_test, y_pred)\n",
    "\n",
    "disp = ConfusionMatrixDisplay(confusion_matrix=cm)\n",
    "disp.plot()\n",
    "plt.show()"
   ]
  },
  {
   "cell_type": "code",
   "execution_count": 18,
   "id": "cb1900e6",
   "metadata": {},
   "outputs": [
    {
     "name": "stdout",
     "output_type": "stream",
     "text": [
      "Classification report:\n",
      "               precision    recall  f1-score   support\n",
      "\n",
      "           0       1.00      0.98      0.99     85296\n",
      "           1       0.06      0.92      0.11       147\n",
      "\n",
      "    accuracy                           0.98     85443\n",
      "   macro avg       0.53      0.95      0.55     85443\n",
      "weighted avg       1.00      0.98      0.99     85443\n",
      "\n"
     ]
    }
   ],
   "source": [
    "# The classification report\n",
    "print('Classification report:\\n', classification_report(y_test, y_pred))"
   ]
  },
  {
   "cell_type": "code",
   "execution_count": 19,
   "id": "69973392",
   "metadata": {},
   "outputs": [
    {
     "data": {
      "text/html": [
       "<div>\n",
       "<style scoped>\n",
       "    .dataframe tbody tr th:only-of-type {\n",
       "        vertical-align: middle;\n",
       "    }\n",
       "\n",
       "    .dataframe tbody tr th {\n",
       "        vertical-align: top;\n",
       "    }\n",
       "\n",
       "    .dataframe thead th {\n",
       "        text-align: right;\n",
       "    }\n",
       "</style>\n",
       "<table border=\"1\" class=\"dataframe\">\n",
       "  <thead>\n",
       "    <tr style=\"text-align: right;\">\n",
       "      <th></th>\n",
       "      <th>Model</th>\n",
       "      <th>Precision</th>\n",
       "      <th>Recall</th>\n",
       "      <th>F1-Score</th>\n",
       "    </tr>\n",
       "  </thead>\n",
       "  <tbody>\n",
       "    <tr>\n",
       "      <th>0</th>\n",
       "      <td>Logistic Regression (no SMOTE)</td>\n",
       "      <td>0.88</td>\n",
       "      <td>0.62</td>\n",
       "      <td>0.73</td>\n",
       "    </tr>\n",
       "    <tr>\n",
       "      <th>1</th>\n",
       "      <td>Logistic Regression (with SMOTE)</td>\n",
       "      <td>0.06</td>\n",
       "      <td>0.92</td>\n",
       "      <td>0.11</td>\n",
       "    </tr>\n",
       "  </tbody>\n",
       "</table>\n",
       "</div>"
      ],
      "text/plain": [
       "                              Model  Precision  Recall  F1-Score\n",
       "0    Logistic Regression (no SMOTE)       0.88    0.62      0.73\n",
       "1  Logistic Regression (with SMOTE)       0.06    0.92      0.11"
      ]
     },
     "execution_count": 19,
     "metadata": {},
     "output_type": "execute_result"
    }
   ],
   "source": [
    "final_results"
   ]
  },
  {
   "cell_type": "markdown",
   "id": "bde30466",
   "metadata": {},
   "source": [
    "### Results of Logistic Regression (with SMOTE)\n",
    "\n",
    "It seems smote made it worse for Logistic regression. My recall did get better with smote, meaning more fraudulent transactions are caught by the model, however the precision shot down, meaning its flagging so many legit transactions as fraudulent, this is terrible in real life for a company as this would cause far more problems than just simply catching a few extra fraud cases, since many real customers would be annoyed and frustrated if their transaction is falsely flagged as fraudulent.\n",
    "\n",
    "While SMOTE is often helpful, I think it confused the linear regression model since it couldn't really capture the complex underlying patterns and therefore the precision shot down as it started flagging most transactions as fraudulent and couldn't distinguish between what is legitimate and fraudulent easily."
   ]
  },
  {
   "cell_type": "markdown",
   "id": "8dfdcaf5",
   "metadata": {},
   "source": [
    "# Random Forest Classifier (without SMOTE)\n",
    "\n",
    "Random Forest is non-linear model that is very good for capturing complex patterns. It can likely handle the complexity (especially that comes with SMOTE) better than logistic regression."
   ]
  },
  {
   "cell_type": "code",
   "execution_count": 20,
   "id": "f90ebaec",
   "metadata": {},
   "outputs": [],
   "source": [
    "from sklearn.ensemble import RandomForestClassifier\n",
    "\n",
    "# The random forest classifier\n",
    "rf_model = RandomForestClassifier(n_estimators=20, random_state=42)\n",
    "\n",
    "rf_model.fit(X_train, y_train)\n",
    "y_pred = rf_model.predict(X_test)"
   ]
  },
  {
   "cell_type": "code",
   "execution_count": 21,
   "id": "c416d3ea",
   "metadata": {},
   "outputs": [],
   "source": [
    "# Calculating metrics and rounding them to 2 decimal places\n",
    "precision = round(precision_score(y_test, y_pred), 2)\n",
    "recall = round(recall_score(y_test, y_pred), 2)\n",
    "f1 = round(f1_score(y_test, y_pred), 2)\n",
    "\n",
    "# Storing results\n",
    "results_rf = [['Random Forest Classifier (no SMOTE)', precision, recall, f1]]\n",
    "df_rf = pd.DataFrame(results_rf, columns=['Model', 'Precision', 'Recall', 'F1-Score'])\n",
    "\n",
    "# Adding the results to the final results dataframe\n",
    "final_results = pd.concat([final_results, df_rf], ignore_index=True)"
   ]
  },
  {
   "cell_type": "code",
   "execution_count": 22,
   "id": "705a9487",
   "metadata": {},
   "outputs": [
    {
     "data": {
      "image/png": "[encoded data removed]",
      "text/plain": [
       "<Figure size 640x480 with 1 Axes>"
      ]
     },
     "metadata": {},
     "output_type": "display_data"
    }
   ],
   "source": [
    "from sklearn.metrics import precision_recall_curve, PrecisionRecallDisplay\n",
    "\n",
    "probs = rf_model.predict_proba(X_test)[:, 1]\n",
    "\n",
    "# This graph shows how the precision and recall relationship changes\n",
    "precision, recall, _ = precision_recall_curve(y_test, probs)\n",
    "\n",
    "disp = PrecisionRecallDisplay(precision=precision, recall=recall)\n",
    "disp.plot()\n",
    "plt.show()"
   ]
  },
  {
   "cell_type": "code",
   "execution_count": 23,
   "id": "9eb74d75",
   "metadata": {},
   "outputs": [
    {
     "name": "stdout",
     "output_type": "stream",
     "text": [
      "0.9314910732629198\n"
     ]
    }
   ],
   "source": [
    "from sklearn.metrics import roc_auc_score\n",
    "\n",
    "# This is the ROC AUC score (area under the curve) and it is a value between 0 and 1\n",
    "# The higher the score, the better the model.\n",
    "roc_auc_rf = roc_auc_score(y_test, probs)\n",
    "print(roc_auc_rf)"
   ]
  },
  {
   "cell_type": "code",
   "execution_count": 24,
   "id": "0614f6a2",
   "metadata": {},
   "outputs": [
    {
     "data": {
      "image/png": "[encoded data removed]",
      "text/plain": [
       "<Figure size 640x480 with 2 Axes>"
      ]
     },
     "metadata": {},
     "output_type": "display_data"
    }
   ],
   "source": [
    "# Confusion matrix\n",
    "cm = confusion_matrix(y_test, y_pred)\n",
    "disp = ConfusionMatrixDisplay(confusion_matrix=cm)\n",
    "\n",
    "disp.plot()\n",
    "plt.show()"
   ]
  },
  {
   "cell_type": "code",
   "execution_count": 25,
   "id": "f5f12de1",
   "metadata": {},
   "outputs": [
    {
     "name": "stdout",
     "output_type": "stream",
     "text": [
      "Classification report:\n",
      "               precision    recall  f1-score   support\n",
      "\n",
      "           0       1.00      1.00      1.00     85296\n",
      "           1       0.96      0.76      0.85       147\n",
      "\n",
      "    accuracy                           1.00     85443\n",
      "   macro avg       0.98      0.88      0.92     85443\n",
      "weighted avg       1.00      1.00      1.00     85443\n",
      "\n"
     ]
    }
   ],
   "source": [
    "# Classification report\n",
    "print('Classification report:\\n', classification_report(y_test, y_pred))"
   ]
  },
  {
   "cell_type": "code",
   "execution_count": 26,
   "id": "a08e792e",
   "metadata": {},
   "outputs": [
    {
     "data": {
      "text/html": [
       "<div>\n",
       "<style scoped>\n",
       "    .dataframe tbody tr th:only-of-type {\n",
       "        vertical-align: middle;\n",
       "    }\n",
       "\n",
       "    .dataframe tbody tr th {\n",
       "        vertical-align: top;\n",
       "    }\n",
       "\n",
       "    .dataframe thead th {\n",
       "        text-align: right;\n",
       "    }\n",
       "</style>\n",
       "<table border=\"1\" class=\"dataframe\">\n",
       "  <thead>\n",
       "    <tr style=\"text-align: right;\">\n",
       "      <th></th>\n",
       "      <th>Model</th>\n",
       "      <th>Precision</th>\n",
       "      <th>Recall</th>\n",
       "      <th>F1-Score</th>\n",
       "    </tr>\n",
       "  </thead>\n",
       "  <tbody>\n",
       "    <tr>\n",
       "      <th>0</th>\n",
       "      <td>Logistic Regression (no SMOTE)</td>\n",
       "      <td>0.88</td>\n",
       "      <td>0.62</td>\n",
       "      <td>0.73</td>\n",
       "    </tr>\n",
       "    <tr>\n",
       "      <th>1</th>\n",
       "      <td>Logistic Regression (with SMOTE)</td>\n",
       "      <td>0.06</td>\n",
       "      <td>0.92</td>\n",
       "      <td>0.11</td>\n",
       "    </tr>\n",
       "    <tr>\n",
       "      <th>2</th>\n",
       "      <td>Random Forest Classifier (no SMOTE)</td>\n",
       "      <td>0.96</td>\n",
       "      <td>0.76</td>\n",
       "      <td>0.85</td>\n",
       "    </tr>\n",
       "  </tbody>\n",
       "</table>\n",
       "</div>"
      ],
      "text/plain": [
       "                                 Model  Precision  Recall  F1-Score\n",
       "0       Logistic Regression (no SMOTE)       0.88    0.62      0.73\n",
       "1     Logistic Regression (with SMOTE)       0.06    0.92      0.11\n",
       "2  Random Forest Classifier (no SMOTE)       0.96    0.76      0.85"
      ]
     },
     "execution_count": 26,
     "metadata": {},
     "output_type": "execute_result"
    }
   ],
   "source": [
    "final_results"
   ]
  },
  {
   "cell_type": "markdown",
   "id": "dc747b6c",
   "metadata": {},
   "source": [
    "### Results of Random Forest Classifier (without SMOTE)\n",
    "\n",
    "It already seems that my Random Forest classifier (even without SMOTE) handles fraud detection far better than logistic regression. Since out of the first 2 models, logistic regression without SMOTE was the better one overall, and this model is simply a big improvement in both precision and recall. I'm pretty happy with that."
   ]
  },
  {
   "cell_type": "markdown",
   "id": "cc860b74",
   "metadata": {},
   "source": [
    "# Random Forest Classifier (with SMOTE)\n",
    "\n",
    "I will do the same things as before, however test with SMOTE for my random forest classifier"
   ]
  },
  {
   "cell_type": "code",
   "execution_count": 27,
   "id": "404177d4",
   "metadata": {},
   "outputs": [],
   "source": [
    "resampling = SMOTE(random_state=42)\n",
    "rf_smote = RandomForestClassifier(n_estimators=20, random_state=42)\n",
    "\n",
    "# The pipeline\n",
    "pipeline = Pipeline([\n",
    "    ('SMOTE', resampling),\n",
    "    ('rf', rf_smote)\n",
    "])\n",
    "\n",
    "pipeline.fit(X_train, y_train)\n",
    "y_pred = pipeline.predict(X_test)"
   ]
  },
  {
   "cell_type": "code",
   "execution_count": 28,
   "id": "79dc7cf8",
   "metadata": {},
   "outputs": [],
   "source": [
    "# Calculating metrics and rounding them to 2 decimal places\n",
    "precision = round(precision_score(y_test, y_pred), 2)\n",
    "recall = round(recall_score(y_test, y_pred), 2)\n",
    "f1 = round(f1_score(y_test, y_pred), 2)\n",
    "\n",
    "# Storing results\n",
    "results_rf_smote = [['Random Forest Classifier (with SMOTE)', precision, recall, f1]]\n",
    "df_rf_smote = pd.DataFrame(results_rf_smote, columns=['Model', 'Precision', 'Recall', 'F1-Score'])\n",
    "\n",
    "# Adding the results to the final results dataframe\n",
    "final_results = pd.concat([final_results, df_rf_smote], ignore_index=True)"
   ]
  },
  {
   "cell_type": "code",
   "execution_count": 29,
   "id": "fd7632a1",
   "metadata": {},
   "outputs": [
    {
     "data": {
      "image/png": "[encoded data removed]",
      "text/plain": [
       "<Figure size 640x480 with 1 Axes>"
      ]
     },
     "metadata": {},
     "output_type": "display_data"
    }
   ],
   "source": [
    "probs = pipeline.predict_proba(X_test)[:, 1]\n",
    "\n",
    "# This graph shows how the precision and recall relationship changes\n",
    "precision, recall, _ = precision_recall_curve(y_test, probs)\n",
    "\n",
    "disp = PrecisionRecallDisplay(precision=precision, recall=recall)\n",
    "disp.plot()\n",
    "plt.show()"
   ]
  },
  {
   "cell_type": "code",
   "execution_count": 30,
   "id": "ac5894f9",
   "metadata": {},
   "outputs": [
    {
     "name": "stdout",
     "output_type": "stream",
     "text": [
      "0.9534410462740716\n"
     ]
    }
   ],
   "source": [
    "roc_auc_rf_smote = roc_auc_score(y_test, probs)\n",
    "print(roc_auc_rf_smote)"
   ]
  },
  {
   "cell_type": "code",
   "execution_count": 31,
   "id": "d80571d9",
   "metadata": {},
   "outputs": [
    {
     "data": {
      "image/png": "[encoded data removed]",
      "text/plain": [
       "<Figure size 640x480 with 2 Axes>"
      ]
     },
     "metadata": {},
     "output_type": "display_data"
    }
   ],
   "source": [
    "# Confusion matrix\n",
    "cm = confusion_matrix(y_test, y_pred)\n",
    "\n",
    "disp = ConfusionMatrixDisplay(confusion_matrix=cm)\n",
    "disp.plot()\n",
    "plt.show()"
   ]
  },
  {
   "cell_type": "code",
   "execution_count": 32,
   "id": "af462060",
   "metadata": {},
   "outputs": [
    {
     "name": "stdout",
     "output_type": "stream",
     "text": [
      "Classification report:\n",
      "               precision    recall  f1-score   support\n",
      "\n",
      "           0       1.00      1.00      1.00     85296\n",
      "           1       0.91      0.82      0.86       147\n",
      "\n",
      "    accuracy                           1.00     85443\n",
      "   macro avg       0.95      0.91      0.93     85443\n",
      "weighted avg       1.00      1.00      1.00     85443\n",
      "\n"
     ]
    }
   ],
   "source": [
    "# Classification report\n",
    "print('Classification report:\\n', classification_report(y_test, y_pred))"
   ]
  },
  {
   "cell_type": "code",
   "execution_count": 33,
   "id": "6612416d",
   "metadata": {},
   "outputs": [
    {
     "data": {
      "text/html": [
       "<div>\n",
       "<style scoped>\n",
       "    .dataframe tbody tr th:only-of-type {\n",
       "        vertical-align: middle;\n",
       "    }\n",
       "\n",
       "    .dataframe tbody tr th {\n",
       "        vertical-align: top;\n",
       "    }\n",
       "\n",
       "    .dataframe thead th {\n",
       "        text-align: right;\n",
       "    }\n",
       "</style>\n",
       "<table border=\"1\" class=\"dataframe\">\n",
       "  <thead>\n",
       "    <tr style=\"text-align: right;\">\n",
       "      <th></th>\n",
       "      <th>Model</th>\n",
       "      <th>Precision</th>\n",
       "      <th>Recall</th>\n",
       "      <th>F1-Score</th>\n",
       "    </tr>\n",
       "  </thead>\n",
       "  <tbody>\n",
       "    <tr>\n",
       "      <th>0</th>\n",
       "      <td>Logistic Regression (no SMOTE)</td>\n",
       "      <td>0.88</td>\n",
       "      <td>0.62</td>\n",
       "      <td>0.73</td>\n",
       "    </tr>\n",
       "    <tr>\n",
       "      <th>1</th>\n",
       "      <td>Logistic Regression (with SMOTE)</td>\n",
       "      <td>0.06</td>\n",
       "      <td>0.92</td>\n",
       "      <td>0.11</td>\n",
       "    </tr>\n",
       "    <tr>\n",
       "      <th>2</th>\n",
       "      <td>Random Forest Classifier (no SMOTE)</td>\n",
       "      <td>0.96</td>\n",
       "      <td>0.76</td>\n",
       "      <td>0.85</td>\n",
       "    </tr>\n",
       "    <tr>\n",
       "      <th>3</th>\n",
       "      <td>Random Forest Classifier (with SMOTE)</td>\n",
       "      <td>0.91</td>\n",
       "      <td>0.82</td>\n",
       "      <td>0.86</td>\n",
       "    </tr>\n",
       "  </tbody>\n",
       "</table>\n",
       "</div>"
      ],
      "text/plain": [
       "                                   Model  Precision  Recall  F1-Score\n",
       "0         Logistic Regression (no SMOTE)       0.88    0.62      0.73\n",
       "1       Logistic Regression (with SMOTE)       0.06    0.92      0.11\n",
       "2    Random Forest Classifier (no SMOTE)       0.96    0.76      0.85\n",
       "3  Random Forest Classifier (with SMOTE)       0.91    0.82      0.86"
      ]
     },
     "execution_count": 33,
     "metadata": {},
     "output_type": "execute_result"
    }
   ],
   "source": [
    "final_results"
   ]
  },
  {
   "cell_type": "markdown",
   "id": "f2e3dbda",
   "metadata": {},
   "source": [
    "### Results of Random Forest Classifier (with SMOTE)\n",
    "\n",
    "SMOTE improved my recall quite a bit for my random forest classifier, even if the precision went down a bit, getting the recall up was worth it since missing fewer fraudulent transactions is valuable in real life for businesses (but of course you should also have a good precision score with a good recall) and in my case, my precision is also very good so adding SMOTE was a good improvement."
   ]
  },
  {
   "cell_type": "code",
   "execution_count": 34,
   "id": "42e53d23",
   "metadata": {},
   "outputs": [
    {
     "name": "stdout",
     "output_type": "stream",
     "text": [
      "ROC AUC scores:\n",
      "Random Forest Classifier (no SMOTE): 0.9314910732629198\n",
      "Random Forest Classifier (with SMOTE): 0.9534410462740716\n"
     ]
    }
   ],
   "source": [
    "print(\"ROC AUC scores:\")\n",
    "print(f\"Random Forest Classifier (no SMOTE): {roc_auc_rf}\")\n",
    "print(f\"Random Forest Classifier (with SMOTE): {roc_auc_rf_smote}\")"
   ]
  },
  {
   "cell_type": "markdown",
   "id": "35c96067",
   "metadata": {},
   "source": [
    "There was also an improvement in my ROC AUC score with SMOTE, and the value was higher and closer to 1, so it was better and also implies SMOTE helped my model."
   ]
  },
  {
   "cell_type": "markdown",
   "id": "d4464013",
   "metadata": {},
   "source": [
    "# Hyperparameter Tuning for Random Forest Classifier\n",
    "\n",
    "Here I performed a search for the best hyperparameter combination out of the ones I selected below"
   ]
  },
  {
   "cell_type": "code",
   "execution_count": 35,
   "id": "da68989a",
   "metadata": {},
   "outputs": [
    {
     "data": {
      "text/plain": [
       "{'rf__max_depth': None, 'rf__min_samples_leaf': 1, 'rf__min_samples_split': 6}"
      ]
     },
     "execution_count": 35,
     "metadata": {},
     "output_type": "execute_result"
    }
   ],
   "source": [
    "from sklearn.model_selection import GridSearchCV\n",
    "\n",
    "# Model\n",
    "rf = RandomForestClassifier(n_estimators=20, random_state=42)\n",
    "\n",
    "# Pipeline\n",
    "pipeline = Pipeline([\n",
    "    ('smote', resampling),\n",
    "    ('rf', rf)\n",
    "])\n",
    "\n",
    "# These are the parameters I will test, the reason I put rf__ is because I'm using a pipeline\n",
    "param_grid = {\n",
    "    'rf__min_samples_split': [5, 6, 7, 8],\n",
    "    'rf__max_depth': [None, 10],\n",
    "    'rf__min_samples_leaf': [1, 2]\n",
    "}\n",
    "\n",
    "rf_search = GridSearchCV(\n",
    "    estimator=pipeline,\n",
    "    param_grid=param_grid,\n",
    "\n",
    "    # Since only focusing on recall gave me bad precision scores, I wanted a good balance of both\n",
    "    scoring='f1',\n",
    "    cv=3,\n",
    "    n_jobs=-1\n",
    ")\n",
    "\n",
    "rf_search.fit(X_train, y_train)\n",
    "\n",
    "# Displays the best combination of hyperparameters found from the search\n",
    "rf_search.best_params_\n"
   ]
  },
  {
   "cell_type": "markdown",
   "id": "48dbfc94",
   "metadata": {},
   "source": [
    "Now I will put in the best parameter combination according to the search above in the final Random Forest Classifier below. \n",
    "\n",
    "Also a small note, I already tried using higher n_estimators like 50, 100 or even 200, but 20 yields the best results so I will keep the final model at 20"
   ]
  },
  {
   "cell_type": "code",
   "execution_count": 36,
   "id": "a74e7496",
   "metadata": {},
   "outputs": [],
   "source": [
    "resampling = SMOTE(random_state=42)\n",
    "\n",
    "# Best model\n",
    "rf_final = RandomForestClassifier(n_estimators=20, min_samples_split=6, min_samples_leaf=1, max_depth=None, n_jobs=-1, random_state=42)\n",
    "\n",
    "# Pipeline\n",
    "pipeline_rf_final = Pipeline([\n",
    "    ('SMOTE', resampling),\n",
    "    ('rf', rf_final)\n",
    "])\n",
    "\n",
    "pipeline_rf_final.fit(X_train, y_train)\n",
    "y_pred = pipeline_rf_final.predict(X_test)"
   ]
  },
  {
   "cell_type": "code",
   "execution_count": 37,
   "id": "d4a7dfb5",
   "metadata": {},
   "outputs": [],
   "source": [
    "# Calculating metrics and rounding them to 2 decimal places\n",
    "precision = round(precision_score(y_test, y_pred), 2)\n",
    "recall = round(recall_score(y_test, y_pred), 2)\n",
    "f1 = round(f1_score(y_test, y_pred), 2)\n",
    "\n",
    "# Storing results\n",
    "results_rf_final = [['Random Forest Classifier (final)', precision, recall, f1]]\n",
    "df_rf_final = pd.DataFrame(results_rf_final, columns=['Model', 'Precision', 'Recall', 'F1-Score'])\n",
    "\n",
    "# Adding the results to the final results dataframe\n",
    "final_results = pd.concat([final_results, df_rf_final], ignore_index=True)"
   ]
  },
  {
   "cell_type": "code",
   "execution_count": 38,
   "id": "18128122",
   "metadata": {},
   "outputs": [
    {
     "name": "stdout",
     "output_type": "stream",
     "text": [
      "Classification report:\n",
      "               precision    recall  f1-score   support\n",
      "\n",
      "           0       1.00      1.00      1.00     85296\n",
      "           1       0.91      0.83      0.87       147\n",
      "\n",
      "    accuracy                           1.00     85443\n",
      "   macro avg       0.96      0.91      0.93     85443\n",
      "weighted avg       1.00      1.00      1.00     85443\n",
      "\n"
     ]
    }
   ],
   "source": [
    "# Classification report\n",
    "print('Classification report:\\n', classification_report(y_test, y_pred))"
   ]
  },
  {
   "cell_type": "code",
   "execution_count": 39,
   "id": "9e862aa8",
   "metadata": {},
   "outputs": [
    {
     "data": {
      "text/html": [
       "<div>\n",
       "<style scoped>\n",
       "    .dataframe tbody tr th:only-of-type {\n",
       "        vertical-align: middle;\n",
       "    }\n",
       "\n",
       "    .dataframe tbody tr th {\n",
       "        vertical-align: top;\n",
       "    }\n",
       "\n",
       "    .dataframe thead th {\n",
       "        text-align: right;\n",
       "    }\n",
       "</style>\n",
       "<table border=\"1\" class=\"dataframe\">\n",
       "  <thead>\n",
       "    <tr style=\"text-align: right;\">\n",
       "      <th></th>\n",
       "      <th>Model</th>\n",
       "      <th>Precision</th>\n",
       "      <th>Recall</th>\n",
       "      <th>F1-Score</th>\n",
       "    </tr>\n",
       "  </thead>\n",
       "  <tbody>\n",
       "    <tr>\n",
       "      <th>0</th>\n",
       "      <td>Logistic Regression (no SMOTE)</td>\n",
       "      <td>0.88</td>\n",
       "      <td>0.62</td>\n",
       "      <td>0.73</td>\n",
       "    </tr>\n",
       "    <tr>\n",
       "      <th>1</th>\n",
       "      <td>Logistic Regression (with SMOTE)</td>\n",
       "      <td>0.06</td>\n",
       "      <td>0.92</td>\n",
       "      <td>0.11</td>\n",
       "    </tr>\n",
       "    <tr>\n",
       "      <th>2</th>\n",
       "      <td>Random Forest Classifier (no SMOTE)</td>\n",
       "      <td>0.96</td>\n",
       "      <td>0.76</td>\n",
       "      <td>0.85</td>\n",
       "    </tr>\n",
       "    <tr>\n",
       "      <th>3</th>\n",
       "      <td>Random Forest Classifier (with SMOTE)</td>\n",
       "      <td>0.91</td>\n",
       "      <td>0.82</td>\n",
       "      <td>0.86</td>\n",
       "    </tr>\n",
       "    <tr>\n",
       "      <th>4</th>\n",
       "      <td>Random Forest Classifier (final)</td>\n",
       "      <td>0.91</td>\n",
       "      <td>0.83</td>\n",
       "      <td>0.87</td>\n",
       "    </tr>\n",
       "  </tbody>\n",
       "</table>\n",
       "</div>"
      ],
      "text/plain": [
       "                                   Model  Precision  Recall  F1-Score\n",
       "0         Logistic Regression (no SMOTE)       0.88    0.62      0.73\n",
       "1       Logistic Regression (with SMOTE)       0.06    0.92      0.11\n",
       "2    Random Forest Classifier (no SMOTE)       0.96    0.76      0.85\n",
       "3  Random Forest Classifier (with SMOTE)       0.91    0.82      0.86\n",
       "4       Random Forest Classifier (final)       0.91    0.83      0.87"
      ]
     },
     "execution_count": 39,
     "metadata": {},
     "output_type": "execute_result"
    }
   ],
   "source": [
    "final_results"
   ]
  },
  {
   "cell_type": "markdown",
   "id": "c1c353c8",
   "metadata": {},
   "source": [
    "### Hyperparameter tuning results\n",
    "\n",
    "I believe the model was already performing near its best, so even though I tried quite a few combinations for hyperparameters tuning, there wasn't a massive improvement. However my precision did go up from 0.82 to 0.83 and f1-score from 0.86 to 0.87, which I'm glad about since every little improvement still counts and helps.\n",
    "\n",
    "Overall I am very happy with my final model's performance. In the end my model got:\n",
    "- Precision of 0.91\n",
    "- (Out of all the transactions, when my model predicted a transaction as fraudulent, it was correct 91% of the time)\n",
    "\n",
    "- Recall of 0.83\n",
    "- (The model caught 83% of all the real fraudulent transactions)"
   ]
  },
  {
   "cell_type": "markdown",
   "id": "f3127432",
   "metadata": {},
   "source": [
    "### Saving with joblib for future use"
   ]
  },
  {
   "cell_type": "code",
   "execution_count": 40,
   "id": "b51e9cbb",
   "metadata": {},
   "outputs": [
    {
     "data": {
      "text/plain": [
       "['fraud_detection_pipeline.pkl']"
      ]
     },
     "execution_count": 40,
     "metadata": {},
     "output_type": "execute_result"
    }
   ],
   "source": [
    "import joblib\n",
    "\n",
    "# Saving the best model using joblib\n",
    "joblib.dump(pipeline_rf_final, 'fraud_detection_pipeline.pkl')"
   ]
  }
 ],
 "metadata": {
  "kernelspec": {
   "display_name": "fraud_detection",
   "language": "python",
   "name": "python3"
  },
  "language_info": {
   "codemirror_mode": {
    "name": "ipython",
    "version": 3
   },
   "file_extension": ".py",
   "mimetype": "text/x-python",
   "name": "python",
   "nbconvert_exporter": "python",
   "pygments_lexer": "ipython3",
   "version": "3.10.16"
  }
 },
 "nbformat": 4,
 "nbformat_minor": 5
}
